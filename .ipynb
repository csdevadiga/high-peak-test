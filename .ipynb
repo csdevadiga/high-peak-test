{
 "cells": [
  {
   "cell_type": "code",
   "execution_count": 17,
   "metadata": {},
   "outputs": [],
   "source": [
    "goodies={}\n",
    "sorted_goodie={}\n",
    "output_goodie={}\n",
    "input1=open(r'C:\\Users\\Keerthan\\Desktop\\sample_input.txt','r')\n",
    "s1=input1.readline()\n",
    "n=int(s1[len(s1)-2])\n",
    "s=input1.readline()\n",
    "s=input1.readline()\n",
    "s=input1.readline()\n",
    "s=input1.readline()\n",
    "goodies = dict(i.rstrip().split(':', 1) for i in input1)\n",
    "for key in goodies:\n",
    "    goodies[key]=int(goodies[key])\n",
    "rev_goodie = {value : key for (key, value) in goodies.items()}\n",
    "\n",
    "\n",
    "\n",
    "goodies1= rev_goodie.items()\n",
    "sorted_goodie= dict(sorted(goodies1))\n",
    "j=0\n",
    "for key in sorted_goodie:\n",
    "\n",
    "    if(j>=n):\n",
    "        break\n",
    "    else:    \n",
    "        output_goodie[key]=sorted_goodie[key]\n",
    "        j=j+1\n",
    "\n",
    "#writing output to file\n",
    "output= open(\"output.txt\", \"a\")\n",
    "output.writelines(\"The goodies selected for distribution are:\\n\")\n",
    "output.writelines(\"\\n\")\n",
    "for key, value in output_goodie.items():\n",
    "    line_txt=value+\":\"+str(key)\n",
    "    output.writelines(line_txt+\"\\n\")\n",
    "output.writelines(\"And the difference between the chosen goodie with highest price and the lowest price is \")\n",
    "s=[]\n",
    "s=list(output_goodie)\n",
    "diff=s[-1]-s[0]\n",
    "diff=str(diff)\n",
    "output.writelines(diff)\n"
   ]
  },
  {
   "cell_type": "code",
   "execution_count": null,
   "metadata": {},
   "outputs": [],
   "source": []
  },
  {
   "cell_type": "code",
   "execution_count": null,
   "metadata": {},
   "outputs": [],
   "source": []
  }
 ],
 "metadata": {
  "kernelspec": {
   "display_name": "Python 3",
   "language": "python",
   "name": "python3"
  },
  "language_info": {
   "codemirror_mode": {
    "name": "ipython",
    "version": 3
   },
   "file_extension": ".py",
   "mimetype": "text/x-python",
   "name": "python",
   "nbconvert_exporter": "python",
   "pygments_lexer": "ipython3",
   "version": "3.7.4"
  }
 },
 "nbformat": 4,
 "nbformat_minor": 2
}
